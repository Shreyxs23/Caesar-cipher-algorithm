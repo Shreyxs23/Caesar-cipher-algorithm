{
 "cells": [
  {
   "cell_type": "markdown",
   "id": "557050dd",
   "metadata": {},
   "source": [
    "# caesar cipher algorithm\n"
   ]
  },
  {
   "cell_type": "code",
   "execution_count": 3,
   "id": "2f60c97e",
   "metadata": {},
   "outputs": [
    {
     "name": "stdout",
     "output_type": "stream",
     "text": [
      "Text : ATTACKATONCE\n",
      "Shift : 4\n",
      "Cipher: EXXEGOEXSRGI\n"
     ]
    }
   ],
   "source": [
    "#e Caesar Cipher Technique\n",
    "def encrypt(text,s):\n",
    "    result = \"\"\n",
    "\n",
    " # traverse text\n",
    "    for i in range(len(text)):\n",
    "        char = text[i]\n",
    "\n",
    "# Encrypt uppercase characters\n",
    "        if(char.isupper()):\n",
    "            result += chr((ord(char) + s-65) % 26 + 65)\n",
    "\n",
    "# Encrypt lowercase characters\n",
    "        else:\n",
    "            result += chr((ord(char) + s - 97) % 26 + 97)\n",
    "\n",
    "    return result\n",
    "\n",
    "#check the above function\n",
    "text = \"ATTACKATONCE\"\n",
    "s = 4\n",
    "print (\"Text : \" + text)\n",
    "print (\"Shift : \" + str(s))\n",
    "print (\"Cipher: \" + encrypt(text,s))\n"
   ]
  },
  {
   "cell_type": "code",
   "execution_count": null,
   "id": "60f8e4e5",
   "metadata": {},
   "outputs": [],
   "source": []
  }
 ],
 "metadata": {
  "kernelspec": {
   "display_name": "Python 3 (ipykernel)",
   "language": "python",
   "name": "python3"
  },
  "language_info": {
   "codemirror_mode": {
    "name": "ipython",
    "version": 3
   },
   "file_extension": ".py",
   "mimetype": "text/x-python",
   "name": "python",
   "nbconvert_exporter": "python",
   "pygments_lexer": "ipython3",
   "version": "3.9.12"
  }
 },
 "nbformat": 4,
 "nbformat_minor": 5
}
